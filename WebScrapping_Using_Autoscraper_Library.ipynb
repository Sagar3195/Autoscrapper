{
  "nbformat": 4,
  "nbformat_minor": 0,
  "metadata": {
    "colab": {
      "name": "WebScrapping_Using_Autoscraper_Library.ipynb",
      "provenance": [],
      "collapsed_sections": []
    },
    "kernelspec": {
      "name": "python3",
      "display_name": "Python 3"
    },
    "language_info": {
      "name": "python"
    }
  },
  "cells": [
    {
      "cell_type": "code",
      "metadata": {
        "colab": {
          "base_uri": "https://localhost:8080/"
        },
        "id": "stsKBAO00F2F",
        "outputId": "c48e8d15-2d73-493f-ef19-737e4049574c"
      },
      "source": [
        "!pip install autoscraper"
      ],
      "execution_count": null,
      "outputs": [
        {
          "output_type": "stream",
          "text": [
            "Collecting autoscraper\n",
            "  Downloading https://files.pythonhosted.org/packages/50/44/553afbb7624aaa16e71546196c1f3beb170dd555a2822785889a9da5c2e7/autoscraper-1.1.12-py3-none-any.whl\n",
            "Requirement already satisfied: requests in /usr/local/lib/python3.7/dist-packages (from autoscraper) (2.23.0)\n",
            "Requirement already satisfied: bs4 in /usr/local/lib/python3.7/dist-packages (from autoscraper) (0.0.1)\n",
            "Requirement already satisfied: lxml in /usr/local/lib/python3.7/dist-packages (from autoscraper) (4.2.6)\n",
            "Requirement already satisfied: chardet<4,>=3.0.2 in /usr/local/lib/python3.7/dist-packages (from requests->autoscraper) (3.0.4)\n",
            "Requirement already satisfied: urllib3!=1.25.0,!=1.25.1,<1.26,>=1.21.1 in /usr/local/lib/python3.7/dist-packages (from requests->autoscraper) (1.24.3)\n",
            "Requirement already satisfied: idna<3,>=2.5 in /usr/local/lib/python3.7/dist-packages (from requests->autoscraper) (2.10)\n",
            "Requirement already satisfied: certifi>=2017.4.17 in /usr/local/lib/python3.7/dist-packages (from requests->autoscraper) (2020.12.5)\n",
            "Requirement already satisfied: beautifulsoup4 in /usr/local/lib/python3.7/dist-packages (from bs4->autoscraper) (4.6.3)\n",
            "Installing collected packages: autoscraper\n",
            "Successfully installed autoscraper-1.1.12\n"
          ],
          "name": "stdout"
        }
      ]
    },
    {
      "cell_type": "code",
      "metadata": {
        "colab": {
          "base_uri": "https://localhost:8080/"
        },
        "id": "yULk64fl0GeY",
        "outputId": "0bff62a3-7287-409c-ba55-38aec3b79cf3"
      },
      "source": [
        "from autoscraper import AutoScraper\n",
        "\n",
        "url = 'https://stackoverflow.com/questions/2081586/web-scraping-with-python'\n",
        "\n",
        "# We can add one or multiple candidates here.\n",
        "# You can also put urls here to retrieve urls.\n",
        "wanted_list = [\"What are metaclasses in Python?\"]\n",
        "\n",
        "scraper = AutoScraper()\n",
        "\n",
        "result = scraper.build(url, wanted_list)\n",
        "print(result)"
      ],
      "execution_count": null,
      "outputs": [
        {
          "output_type": "stream",
          "text": [
            "['How to execute a program or call a system command from Python', 'What are metaclasses in Python?', 'Does Python have a ternary conditional operator?', 'Convert bytes to a string', \"Does Python have a string 'contains' substring method?\", 'How to check version of python modules?']\n"
          ],
          "name": "stdout"
        }
      ]
    },
    {
      "cell_type": "code",
      "metadata": {
        "colab": {
          "base_uri": "https://localhost:8080/"
        },
        "id": "D5k62wTU0GhC",
        "outputId": "6c711694-9d6b-4508-ca4e-cc9f1e73593c"
      },
      "source": [
        "#Now we can use the scraper object to get related topics of any stackoverflow page:\n",
        "scraper.get_result_similar('https://stackoverflow.com/questions/606191/convert-bytes-to-a-string')"
      ],
      "execution_count": null,
      "outputs": [
        {
          "output_type": "execute_result",
          "data": {
            "text/plain": [
              "['What is the difference between String and string in C#?',\n",
              " 'How do I read / convert an InputStream into a String in Java?',\n",
              " \"Case insensitive 'Contains(string)'\",\n",
              " 'How do I make the first letter of a string uppercase in JavaScript?',\n",
              " 'How to replace all occurrences of a string in JavaScript?',\n",
              " 'How to check whether a string contains a substring in JavaScript?',\n",
              " \"Does Python have a string 'contains' substring method?\",\n",
              " 'How do I convert a String to an int in Java?',\n",
              " 'Best way to convert string to bytes in Python 3?',\n",
              " 'Why is char[] preferred over String for passwords?']"
            ]
          },
          "metadata": {
            "tags": []
          },
          "execution_count": 4
        }
      ]
    },
    {
      "cell_type": "code",
      "metadata": {
        "colab": {
          "base_uri": "https://localhost:8080/"
        },
        "id": "Hu-G1BGh0GkP",
        "outputId": "d722d3f4-2436-4e31-817b-448605c5cb53"
      },
      "source": [
        "from autoscraper import AutoScraper\n",
        "\n",
        "url = 'https://finance.yahoo.com/quote/AAPL/'\n",
        "\n",
        "wanted_list = [\"134.39\"]\n",
        "\n",
        "scraper = AutoScraper()\n",
        "\n",
        "# Here we can also pass html content via the html parameter instead of the url (html=html_content)\n",
        "result = scraper.build(url, wanted_list)\n",
        "print(result)"
      ],
      "execution_count": null,
      "outputs": [
        {
          "output_type": "stream",
          "text": [
            "['134.39']\n"
          ],
          "name": "stdout"
        }
      ]
    },
    {
      "cell_type": "code",
      "metadata": {
        "colab": {
          "base_uri": "https://localhost:8080/"
        },
        "id": "O0oNNPk90GnY",
        "outputId": "9c61e6c4-bf82-4f84-d237-f562a20f4485"
      },
      "source": [
        "from autoscraper import AutoScraper\n",
        "\n",
        "url = 'https://finance.yahoo.com/quote/MSFT/'\n",
        "\n",
        "wanted_list = [\"261.55\"]\n",
        "\n",
        "scraper = AutoScraper()\n",
        "\n",
        "# Here we can also pass html content via the html parameter instead of the url (html=html_content)\n",
        "result = scraper.build(url, wanted_list)\n",
        "print(result)"
      ],
      "execution_count": null,
      "outputs": [
        {
          "output_type": "stream",
          "text": [
            "['261.55', '261.58', '0.00 x 900', '0.00 x 800', '260.12 - 263.18', '171.88 - 263.18', '24,512,588', '28,289,798', '1.976T', '0.79', '39.06', '6.71', 'Jul 20, 2021 - Jul 26, 2021', '2.24 (0.86%)', 'May 19, 2021', '276.77']\n"
          ],
          "name": "stdout"
        }
      ]
    },
    {
      "cell_type": "code",
      "metadata": {
        "colab": {
          "base_uri": "https://localhost:8080/"
        },
        "id": "_-g5MDP60HPI",
        "outputId": "4eaec0ec-dcb4-480f-a6e7-3a3c7a93993f"
      },
      "source": [
        "scraper.get_result_similar('https://finance.yahoo.com/quote/MSFT/')"
      ],
      "execution_count": null,
      "outputs": [
        {
          "output_type": "execute_result",
          "data": {
            "text/plain": [
              "['261.55',\n",
              " '261.58',\n",
              " '0.00 x 900',\n",
              " '0.00 x 800',\n",
              " '260.12 - 263.18',\n",
              " '171.88 - 263.18',\n",
              " '24,512,588',\n",
              " '28,289,798',\n",
              " '1.976T',\n",
              " '0.79',\n",
              " '39.06',\n",
              " '6.71',\n",
              " 'Jul 20, 2021 - Jul 26, 2021',\n",
              " '2.24 (0.86%)',\n",
              " 'May 19, 2021',\n",
              " '276.77']"
            ]
          },
          "metadata": {
            "tags": []
          },
          "execution_count": 8
        }
      ]
    },
    {
      "cell_type": "markdown",
      "metadata": {
        "id": "qWKtK7-m3MMh"
      },
      "source": [
        "* Here we want to scrape the about text, number of stars and the link to issues of Github repo pages:"
      ]
    },
    {
      "cell_type": "code",
      "metadata": {
        "colab": {
          "base_uri": "https://localhost:8080/"
        },
        "id": "GaskSUwz0HSs",
        "outputId": "1d8ad589-af0a-4ec4-8971-55efaecd4de1"
      },
      "source": [
        "from autoscraper import AutoScraper\n",
        "\n",
        "url = 'https://github.com/alirezamika/autoscraper'\n",
        "\n",
        "wanted_list = ['A Smart, Automatic, Fast and Lightweight Web Scraper for Python', '2.5k', 'https://github.com/alirezamika/autoscraper/issues']\n",
        "\n",
        "scraper = AutoScraper()\n",
        "scraper.build(url, wanted_list)"
      ],
      "execution_count": null,
      "outputs": [
        {
          "output_type": "execute_result",
          "data": {
            "text/plain": [
              "['A Smart, Automatic, Fast and Lightweight Web Scraper for Python',\n",
              " 'https://github.com/alirezamika/autoscraper',\n",
              " 'https://github.com/alirezamika/autoscraper/issues',\n",
              " 'https://github.com/alirezamika/autoscraper/pulls',\n",
              " 'https://github.com/alirezamika/autoscraper/discussions',\n",
              " 'https://github.com/alirezamika/autoscraper/actions',\n",
              " 'https://github.com/alirezamika/autoscraper/projects',\n",
              " 'https://github.com/alirezamika/autoscraper/wiki',\n",
              " 'https://github.com/alirezamika/autoscraper/security',\n",
              " 'https://github.com/alirezamika/autoscraper/pulse']"
            ]
          },
          "metadata": {
            "tags": []
          },
          "execution_count": 9
        }
      ]
    },
    {
      "cell_type": "code",
      "metadata": {
        "colab": {
          "base_uri": "https://localhost:8080/"
        },
        "id": "crZ2oNnx0HVz",
        "outputId": "d0459c7c-5d21-4618-d28c-7bd2b529635c"
      },
      "source": [
        "from autoscraper import AutoScraper\n",
        "\n",
        "url = 'https://github.com/alirezamika?tab=repositories'\n",
        "\n",
        "wanted_list = ['3,493', 'autoscraper'] #scrapping  all starts and reporsitory headings\n",
        "\n",
        "scraper = AutoScraper()\n",
        "result = scraper.build(url, wanted_list)\n",
        "print(result)"
      ],
      "execution_count": null,
      "outputs": [
        {
          "output_type": "stream",
          "text": [
            "['3,493', '19', '35', '230', '54', '1', '3', 'autoscraper', 'tutorials', 'flappybird-es', 'evostra', 'bipedal-es', 'tf', 'dqn']\n"
          ],
          "name": "stdout"
        }
      ]
    },
    {
      "cell_type": "code",
      "metadata": {
        "id": "X7aUPXLR0HZF"
      },
      "source": [
        ""
      ],
      "execution_count": null,
      "outputs": []
    },
    {
      "cell_type": "code",
      "metadata": {
        "id": "1m53i5CN0HcD"
      },
      "source": [
        ""
      ],
      "execution_count": null,
      "outputs": []
    },
    {
      "cell_type": "code",
      "metadata": {
        "id": "rYPuWdD80HkX"
      },
      "source": [
        ""
      ],
      "execution_count": null,
      "outputs": []
    },
    {
      "cell_type": "code",
      "metadata": {
        "id": "T3OPaeaj0HmL"
      },
      "source": [
        ""
      ],
      "execution_count": null,
      "outputs": []
    },
    {
      "cell_type": "code",
      "metadata": {
        "id": "Ou80bd_i0HpP"
      },
      "source": [
        ""
      ],
      "execution_count": null,
      "outputs": []
    },
    {
      "cell_type": "code",
      "metadata": {
        "id": "hAO_D9mC0Htf"
      },
      "source": [
        ""
      ],
      "execution_count": null,
      "outputs": []
    },
    {
      "cell_type": "code",
      "metadata": {
        "id": "WzZoZUwO0HxU"
      },
      "source": [
        ""
      ],
      "execution_count": null,
      "outputs": []
    },
    {
      "cell_type": "code",
      "metadata": {
        "id": "LKlUgjAW0H1U"
      },
      "source": [
        ""
      ],
      "execution_count": null,
      "outputs": []
    },
    {
      "cell_type": "code",
      "metadata": {
        "id": "bB0Itg4x0H5o"
      },
      "source": [
        ""
      ],
      "execution_count": null,
      "outputs": []
    },
    {
      "cell_type": "code",
      "metadata": {
        "id": "zyVl7-BE0H9m"
      },
      "source": [
        ""
      ],
      "execution_count": null,
      "outputs": []
    },
    {
      "cell_type": "code",
      "metadata": {
        "id": "DpJlAort0ICi"
      },
      "source": [
        ""
      ],
      "execution_count": null,
      "outputs": []
    },
    {
      "cell_type": "code",
      "metadata": {
        "id": "no3ofxDd0IFn"
      },
      "source": [
        ""
      ],
      "execution_count": null,
      "outputs": []
    },
    {
      "cell_type": "code",
      "metadata": {
        "id": "Q7qdh3iA0IJr"
      },
      "source": [
        ""
      ],
      "execution_count": null,
      "outputs": []
    },
    {
      "cell_type": "code",
      "metadata": {
        "id": "B1rQZhuD0INc"
      },
      "source": [
        ""
      ],
      "execution_count": null,
      "outputs": []
    },
    {
      "cell_type": "code",
      "metadata": {
        "id": "_WuRma_r0IQw"
      },
      "source": [
        ""
      ],
      "execution_count": null,
      "outputs": []
    },
    {
      "cell_type": "code",
      "metadata": {
        "id": "lWAJt3F10IUl"
      },
      "source": [
        ""
      ],
      "execution_count": null,
      "outputs": []
    },
    {
      "cell_type": "code",
      "metadata": {
        "id": "dvoRpxzQ0IYP"
      },
      "source": [
        ""
      ],
      "execution_count": null,
      "outputs": []
    },
    {
      "cell_type": "code",
      "metadata": {
        "id": "NTAhmTHu0Ib2"
      },
      "source": [
        ""
      ],
      "execution_count": null,
      "outputs": []
    },
    {
      "cell_type": "code",
      "metadata": {
        "id": "V93wd1tS0IfH"
      },
      "source": [
        ""
      ],
      "execution_count": null,
      "outputs": []
    },
    {
      "cell_type": "code",
      "metadata": {
        "id": "AsfUzDl20Ii-"
      },
      "source": [
        ""
      ],
      "execution_count": null,
      "outputs": []
    },
    {
      "cell_type": "code",
      "metadata": {
        "id": "VriryKlV0Il8"
      },
      "source": [
        ""
      ],
      "execution_count": null,
      "outputs": []
    }
  ]
}