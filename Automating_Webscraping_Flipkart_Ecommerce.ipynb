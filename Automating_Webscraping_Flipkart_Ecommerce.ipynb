{
  "nbformat": 4,
  "nbformat_minor": 0,
  "metadata": {
    "colab": {
      "name": "Automating Webscraping Flipkart Ecommerce.ipynb",
      "provenance": [],
      "collapsed_sections": []
    },
    "kernelspec": {
      "name": "python3",
      "display_name": "Python 3"
    },
    "language_info": {
      "name": "python"
    }
  },
  "cells": [
    {
      "cell_type": "code",
      "metadata": {
        "colab": {
          "base_uri": "https://localhost:8080/"
        },
        "id": "0LuhbIgw_tAp",
        "outputId": "0b62a543-2f93-4f8b-b141-196e4b91bd81"
      },
      "source": [
        "!pip install autoscraper"
      ],
      "execution_count": null,
      "outputs": [
        {
          "output_type": "stream",
          "text": [
            "Collecting autoscraper\n",
            "  Downloading https://files.pythonhosted.org/packages/50/44/553afbb7624aaa16e71546196c1f3beb170dd555a2822785889a9da5c2e7/autoscraper-1.1.12-py3-none-any.whl\n",
            "Requirement already satisfied: requests in /usr/local/lib/python3.7/dist-packages (from autoscraper) (2.23.0)\n",
            "Requirement already satisfied: bs4 in /usr/local/lib/python3.7/dist-packages (from autoscraper) (0.0.1)\n",
            "Requirement already satisfied: lxml in /usr/local/lib/python3.7/dist-packages (from autoscraper) (4.2.6)\n",
            "Requirement already satisfied: idna<3,>=2.5 in /usr/local/lib/python3.7/dist-packages (from requests->autoscraper) (2.10)\n",
            "Requirement already satisfied: certifi>=2017.4.17 in /usr/local/lib/python3.7/dist-packages (from requests->autoscraper) (2020.12.5)\n",
            "Requirement already satisfied: urllib3!=1.25.0,!=1.25.1,<1.26,>=1.21.1 in /usr/local/lib/python3.7/dist-packages (from requests->autoscraper) (1.24.3)\n",
            "Requirement already satisfied: chardet<4,>=3.0.2 in /usr/local/lib/python3.7/dist-packages (from requests->autoscraper) (3.0.4)\n",
            "Requirement already satisfied: beautifulsoup4 in /usr/local/lib/python3.7/dist-packages (from bs4->autoscraper) (4.6.3)\n",
            "Installing collected packages: autoscraper\n",
            "Successfully installed autoscraper-1.1.12\n"
          ],
          "name": "stdout"
        }
      ]
    },
    {
      "cell_type": "code",
      "metadata": {
        "id": "JF3XKRi2_u4h"
      },
      "source": [
        "from autoscraper import AutoScraper"
      ],
      "execution_count": null,
      "outputs": []
    },
    {
      "cell_type": "code",
      "metadata": {
        "id": "xMZZY4NV_u8J"
      },
      "source": [
        "flipkart_url=\"https://www.flipkart.com/search?q=Nokia\"\n",
        "\n",
        "wanted_list=[\"₹1,179\",\"Nokia 105 SS\"]"
      ],
      "execution_count": null,
      "outputs": []
    },
    {
      "cell_type": "code",
      "metadata": {
        "colab": {
          "base_uri": "https://localhost:8080/"
        },
        "id": "QJyDNwqw_u_b",
        "outputId": "cdca794a-04ed-4892-da66-dc0624b5b152"
      },
      "source": [
        "scraper=AutoScraper()\n",
        "result=scraper.build(flipkart_url,wanted_list)\n",
        "print(result)"
      ],
      "execution_count": null,
      "outputs": [
        {
          "output_type": "stream",
          "text": [
            "['₹1,144₹1,1581% off', '₹1,179', '₹1,199', '₹1,338₹1,339', '₹1,185', '₹1,302', '₹1,599', '₹1,649', '₹1,189', '₹2,565', '₹3,199₹4,99936% off', '₹249₹48048% off', '₹15,999₹19,99920% off', '₹1,990₹2,99933% off', '₹3,498', '₹2,295', '₹2,420', '₹3,297₹3,302', '₹3,599₹4,39918% off', '₹1,350₹1,351', '₹10,399₹11,4999% off', '₹1,351₹1,3902% off', '₹1,390', '₹3,599₹4,23314% off', '₹57,990₹90,00035% offOr Pay ₹57,890 +  100', '₹249₹49950% off', '₹25,999₹39,99935% off', '₹11,999₹13,99914% off', '₹3,649₹4,39917% off', '₹7,199₹8,49915% off', '₹1,749', '₹2,215', '₹2,199', '₹39,990₹57,39930% off', '₹43,990₹62,99930% off', 'Nokia 105 SS 2020', 'Nokia 105 SS', 'Nokia TA-1010/105', 'Nokia TA-1174 / TA-1299', 'Nokia 105 DS 2020', 'Nokia 110 DS 2020', 'Nokia 105', 'Nokia 150 DS 2020', 'Nokia Media Streamer with Built- In Chromecast', 'Nokia AC-18N3 1 A Mobile Charger', 'Nokia 80 cm (32 inch) HD Ready LED Smart Android TV with Sound by Onkyo', 'Nokia T2000 Rapid Charge Bluetooth Headset', 'Nokia 5310 DS 2020', 'Nokia 3310 DS 2020', 'Nokia 105 DS', 'Nokia 2.4 (Dusk Purple, 64 GB)', 'Nokia PureBook X14 Core i5 10th Gen - (8 GB/512 GB SSD/Windows 10 Home) NKi510UL85S Thin and Light Lap...', 'Nokia Mobile Battery For  Nokia 5C', 'Nokia 107.9 cm (43 inch) Full HD LED Smart Android TV with Sound by Onkyo', 'Nokia 3.4 (Fjord, 64 GB)', 'Nokia 2.4 (Fjord Blue, 64 GB)', 'Nokia C3 (Sand, 16 GB)', 'Nokia C3 (Nordic Blue, 16 GB)', 'Nokia 125 DS 2020', 'Nokia 2.4 (Charcoal Grey, 64 GB)', 'Nokia 4 in 1 Convertible Cooling 1.5 Ton 5 Star Split Triple Inverter Smart AC with Wi-fi Connect  - W...', 'Nokia 4 in 1 Convertible Cooling 2 Ton 3 Star Split Triple Inverter Smart AC with Wi-fi Connect  - Whi...']\n"
          ],
          "name": "stdout"
        }
      ]
    },
    {
      "cell_type": "code",
      "metadata": {
        "colab": {
          "base_uri": "https://localhost:8080/"
        },
        "id": "O7WAwSGi_vC5",
        "outputId": "f9aa1353-b2b2-47c3-e209-b553147c659f"
      },
      "source": [
        "scraper.get_result_similar(flipkart_url,grouped=True)"
      ],
      "execution_count": null,
      "outputs": [
        {
          "output_type": "execute_result",
          "data": {
            "text/plain": [
              "{'rule_1hrh': ['₹1,179',\n",
              "  '₹1,338₹1,339',\n",
              "  '₹1,185',\n",
              "  '₹37,999₹54,99930% off',\n",
              "  '₹1,302',\n",
              "  '₹1,599',\n",
              "  '₹1,666',\n",
              "  '₹2,450',\n",
              "  '₹1,189',\n",
              "  '₹2,565',\n",
              "  '₹3,498',\n",
              "  '₹3,199₹4,99936% off',\n",
              "  '₹249₹48048% off',\n",
              "  '₹41,999₹59,99930% off',\n",
              "  '₹15,999₹19,99920% off',\n",
              "  '₹1,990₹2,99933% off',\n",
              "  '₹3,297₹3,302',\n",
              "  '₹3,599₹4,39918% off',\n",
              "  '₹1,350₹1,351',\n",
              "  '₹32,999₹45,99928% off',\n",
              "  '₹1,351₹1,3902% off',\n",
              "  '₹10,399₹11,4999% off',\n",
              "  '₹1,390',\n",
              "  '₹3,599₹4,23314% off',\n",
              "  '₹11,999₹13,99914% off',\n",
              "  '₹10,399₹11,4999% off',\n",
              "  '₹3,649₹4,39917% off',\n",
              "  '₹57,990₹90,00035% offOr Pay ₹57,890 +  100',\n",
              "  '₹249₹49950% off',\n",
              "  '₹25,999₹39,99935% off',\n",
              "  '₹1,990₹2,99933% off',\n",
              "  '₹7,199₹8,49915% off',\n",
              "  '₹7,199₹8,49915% off',\n",
              "  '₹2,215',\n",
              "  '₹2,199',\n",
              "  '₹10,399₹11,4999% off',\n",
              "  '₹11,999₹13,99914% off',\n",
              "  '₹9,799',\n",
              "  '₹2,149',\n",
              "  '₹8,499₹8,9995% off'],\n",
              " 'rule_53b1': ['Nokia 105 SS',\n",
              "  'Nokia TA-1174 / TA-1299',\n",
              "  'Nokia 105 SS 2020',\n",
              "  'Nokia 126 cm (50 inch) Ultra HD (4K) LED Smart Android TV with Sound by Onkyo',\n",
              "  'Nokia 105 DS 2020',\n",
              "  'Nokia 110 DS 2020',\n",
              "  'Nokia 110 DS 2020',\n",
              "  'Nokia 216 DS 2020',\n",
              "  'Nokia 105',\n",
              "  'Nokia 150 DS 2020',\n",
              "  'Nokia 5310 DS 2020',\n",
              "  'Nokia Media Streamer with Built- In Chromecast',\n",
              "  'Nokia AC-18N3 1 A Mobile Charger',\n",
              "  'Nokia 139 cm (55 inch) Ultra HD (4K) LED Smart Android TV with Sound by Onkyo',\n",
              "  'Nokia 80 cm (32 inch) HD Ready LED Smart Android TV with Sound by Onkyo',\n",
              "  'Nokia T2000 Rapid Charge Bluetooth Headset',\n",
              "  'Nokia 5310 DS 2020',\n",
              "  'Nokia 3310 DS 2020',\n",
              "  'Nokia 105 DS',\n",
              "  'Nokia 108 cm (43 inch) Ultra HD (4K) LED Smart Android TV with Sound by Onkyo',\n",
              "  'Nokia 105 DS 2020',\n",
              "  'Nokia 2.4 (Dusk Purple, 64 GB)',\n",
              "  'Nokia 105 DS 2020',\n",
              "  'Nokia 3310 DS 2020',\n",
              "  'Nokia 3.4 (Fjord, 64 GB)',\n",
              "  'Nokia 2.4 (Fjord Blue, 64 GB)',\n",
              "  'Nokia 3310 DS 2020',\n",
              "  'Nokia PureBook X14 Core i5 10th Gen - (8 GB/512 GB SSD/Windows 10 Home) NKi510UL85S Thin and Light Lap...',\n",
              "  'Nokia Mobile Battery For  Nokia 5C',\n",
              "  'Nokia 107.9 cm (43 inch) Full HD LED Smart Android TV with Sound by Onkyo',\n",
              "  'Nokia T2000 Rapid Charge Bluetooth Headset',\n",
              "  'Nokia C3 (Sand, 16 GB)',\n",
              "  'Nokia C3 (Nordic Blue, 16 GB)',\n",
              "  'Nokia 125 DS 2020',\n",
              "  'Nokia 125 DS 2020',\n",
              "  'Nokia 2.4 (Charcoal Grey, 64 GB)',\n",
              "  'Nokia 3.4 (Dusk, 64 GB)',\n",
              "  'Nokia 2.3 (Cyan Green, 32 GB)',\n",
              "  'Nokia 125 DS',\n",
              "  'Nokia 2.3 (Charcoal, 32 GB)'],\n",
              " 'rule_o7ta': ['Nokia 105 SS',\n",
              "  'Nokia TA-1174 / TA-1299',\n",
              "  'Nokia 105 SS 2020',\n",
              "  'Nokia 126 cm (50 inch) Ultra HD (4K) LED Smart Android TV with Sound by Onkyo',\n",
              "  'Nokia 105 DS 2020',\n",
              "  'Nokia 110 DS 2020',\n",
              "  'Nokia 110 DS 2020',\n",
              "  'Nokia 216 DS 2020',\n",
              "  'Nokia 105',\n",
              "  'Nokia 150 DS 2020',\n",
              "  'Nokia 5310 DS 2020',\n",
              "  'Nokia Media Streamer with Built- In Chromecast',\n",
              "  'Nokia AC-18N3 1 A Mobile Charger',\n",
              "  'Nokia 139 cm (55 inch) Ultra HD (4K) LED Smart Android TV with Sound by Onkyo',\n",
              "  'Nokia 80 cm (32 inch) HD Ready LED Smart Android TV with Sound by Onkyo',\n",
              "  'Nokia T2000 Rapid Charge Bluetooth Headset',\n",
              "  'Nokia 5310 DS 2020',\n",
              "  'Nokia 3310 DS 2020',\n",
              "  'Nokia 105 DS',\n",
              "  'Nokia 108 cm (43 inch) Ultra HD (4K) LED Smart Android TV with Sound by Onkyo',\n",
              "  'Nokia 105 DS 2020',\n",
              "  'Nokia 2.4 (Dusk Purple, 64 GB)',\n",
              "  'Nokia 105 DS 2020',\n",
              "  'Nokia 3310 DS 2020',\n",
              "  'Nokia 3.4 (Fjord, 64 GB)',\n",
              "  'Nokia 2.4 (Fjord Blue, 64 GB)',\n",
              "  'Nokia 3310 DS 2020',\n",
              "  'Nokia PureBook X14 Core i5 10th Gen - (8 GB/512 GB SSD/Windows 10 Home) NKi510UL85S Thin and Light Lap...',\n",
              "  'Nokia Mobile Battery For  Nokia 5C',\n",
              "  'Nokia 107.9 cm (43 inch) Full HD LED Smart Android TV with Sound by Onkyo',\n",
              "  'Nokia T2000 Rapid Charge Bluetooth Headset',\n",
              "  'Nokia C3 (Sand, 16 GB)',\n",
              "  'Nokia C3 (Nordic Blue, 16 GB)',\n",
              "  'Nokia 125 DS 2020',\n",
              "  'Nokia 125 DS 2020',\n",
              "  'Nokia 2.4 (Charcoal Grey, 64 GB)',\n",
              "  'Nokia 3.4 (Dusk, 64 GB)',\n",
              "  'Nokia 2.3 (Cyan Green, 32 GB)',\n",
              "  'Nokia 125 DS',\n",
              "  'Nokia 2.3 (Charcoal, 32 GB)']}"
            ]
          },
          "metadata": {
            "tags": []
          },
          "execution_count": 13
        }
      ]
    },
    {
      "cell_type": "code",
      "metadata": {
        "id": "uFdWg7HX_vGB"
      },
      "source": [
        "scraper.set_rule_aliases({'rule_53b1':'Title','rule_1hrh':'Price'})\n",
        "scraper.keep_rules(['rule_53b1','rule_1hrh'])\n",
        "scraper.save('flipkart-search')"
      ],
      "execution_count": null,
      "outputs": []
    },
    {
      "cell_type": "code",
      "metadata": {
        "id": "-oRMH1yj_vJf"
      },
      "source": [
        "results=scraper.get_result_similar('https://www.flipkart.com/search?q=mi%20mobiles%20under%2025000',group_by_alias=True)"
      ],
      "execution_count": null,
      "outputs": []
    },
    {
      "cell_type": "code",
      "metadata": {
        "colab": {
          "base_uri": "https://localhost:8080/"
        },
        "id": "LKt9Z8D8_vNU",
        "outputId": "9b2a203b-3bf9-4cef-8b12-8e2fcb641956"
      },
      "source": [
        "results['Title']"
      ],
      "execution_count": null,
      "outputs": [
        {
          "output_type": "execute_result",
          "data": {
            "text/plain": [
              "['Mi 10i (Midnight Black, 128 GB)',\n",
              " 'Mi 10i (Pacific Sunrise, 128 GB)',\n",
              " 'Mi 10i (Atlantic Blue, 128 GB)',\n",
              " 'Redmi K20 (Glacier Blue, 128 GB)',\n",
              " 'Redmi K20 (Carbon Black, 64 GB)',\n",
              " 'Redmi K20 (Pearl White, 64 GB)',\n",
              " 'Redmi K20 Pro (Carbon Black, 256 GB)',\n",
              " 'Mi 10i (Atlantic Blue, 128 GB)',\n",
              " 'Redmi K20 (Carbon Black, 128 GB)',\n",
              " 'Mi A2 (Red, 128 GB)',\n",
              " 'Redmi K20 (Pearl White, 128 GB)',\n",
              " 'Redmi Note 9 Pro (Interstellar Black, 128 GB)',\n",
              " 'Redmi Note 9 Pro (Interstellar Black, 128 GB)',\n",
              " 'Redmi Note 9 Pro (Aurora Blue, 128 GB)',\n",
              " 'Redmi Note 9 Pro (Champagne Gold, 128 GB)',\n",
              " 'Redmi Note 9 Pro (Glacier White, 128 GB)',\n",
              " 'Redmi Note 9 Pro (Aurora Blue, 128 GB)',\n",
              " 'Redmi Note 9 Pro (Champagne Gold, 128 GB)',\n",
              " 'Redmi Note 9 Pro (Aurora Blue, 64 GB)',\n",
              " 'Redmi Note 6 Pro (Blue, 64 GB)',\n",
              " 'Redmi Note 9 Pro (Glacier White, 128 GB)',\n",
              " 'Redmi Note 6 Pro (Black, 64 GB)',\n",
              " 'Redmi Note 8 (Space Black, 128 GB)',\n",
              " 'Redmi Note 5 Pro (Gold, 64 GB)']"
            ]
          },
          "metadata": {
            "tags": []
          },
          "execution_count": 18
        }
      ]
    },
    {
      "cell_type": "code",
      "metadata": {
        "colab": {
          "base_uri": "https://localhost:8080/"
        },
        "id": "Nazh20-z_vQL",
        "outputId": "763122ab-f545-48c9-b819-c7ea33f15b75"
      },
      "source": [
        "results['Price']"
      ],
      "execution_count": null,
      "outputs": [
        {
          "output_type": "execute_result",
          "data": {
            "text/plain": [
              "['₹23,275 Faster deliveryNo Cost EMI',\n",
              " '₹23,999 Faster deliveryNo Cost EMI',\n",
              " '₹24,846₹25,2491% off Faster deliveryNo Cost EMI',\n",
              " '₹24,999 Faster deliveryNo Cost EMI',\n",
              " '₹22,999 Faster deliveryNo Cost EMI',\n",
              " '₹22,999 Faster deliveryNo Cost EMI',\n",
              " '₹31,999 Faster deliveryNo Cost EMI',\n",
              " '₹23,276₹23,375 Faster deliveryNo Cost EMI',\n",
              " '₹24,999 Faster deliveryNo Cost EMI',\n",
              " '₹20,500Exchange, 100% Money Back Faster delivery',\n",
              " '₹24,999 Faster deliveryNo Cost EMI',\n",
              " '₹15,495₹17,99513% off Faster deliveryNo Cost EMI',\n",
              " '₹19,989 Faster deliveryNo Cost EMI',\n",
              " '₹19,989₹19,990 Faster deliveryNo Cost EMI',\n",
              " '₹18,530₹19,6165% off Faster deliveryNo Cost EMI',\n",
              " '₹15,670₹16,9887% off Faster deliveryNo Cost EMI',\n",
              " '₹15,399 Faster deliveryNo Cost EMI',\n",
              " '₹14,968₹17,99516% off Faster deliveryNo Cost EMI',\n",
              " '₹14,499No Cost EMI',\n",
              " '₹17,999Exchange, 100% Money Back Faster delivery',\n",
              " '₹19,998₹19,999 Faster deliveryNo Cost EMI',\n",
              " '₹15,999Exchange, 100% Money Back Faster delivery',\n",
              " '₹15,749₹15,9951% off Faster deliveryNo Cost EMI',\n",
              " '₹16,999 Faster deliveryNo Cost EMI']"
            ]
          },
          "metadata": {
            "tags": []
          },
          "execution_count": 19
        }
      ]
    },
    {
      "cell_type": "code",
      "metadata": {
        "id": "uS2VU1HJ_vjk"
      },
      "source": [
        ""
      ],
      "execution_count": null,
      "outputs": []
    },
    {
      "cell_type": "code",
      "metadata": {
        "id": "mjtvvx3T_vpY"
      },
      "source": [
        ""
      ],
      "execution_count": null,
      "outputs": []
    }
  ]
}